{
  "nbformat": 4,
  "nbformat_minor": 0,
  "metadata": {
    "colab": {
      "provenance": []
    },
    "kernelspec": {
      "name": "python3",
      "display_name": "Python 3"
    },
    "language_info": {
      "name": "python"
    }
  },
  "cells": [
    {
      "cell_type": "code",
      "execution_count": 2,
      "metadata": {
        "colab": {
          "base_uri": "https://localhost:8080/"
        },
        "id": "ciyyCybnTkDC",
        "outputId": "747550a9-f568-4b7a-d073-29e7ed3972aa"
      },
      "outputs": [
        {
          "output_type": "stream",
          "name": "stdout",
          "text": [
            "Collecting groq\n",
            "  Downloading groq-0.30.0-py3-none-any.whl.metadata (16 kB)\n",
            "Requirement already satisfied: anyio<5,>=3.5.0 in /usr/local/lib/python3.11/dist-packages (from groq) (4.9.0)\n",
            "Requirement already satisfied: distro<2,>=1.7.0 in /usr/local/lib/python3.11/dist-packages (from groq) (1.9.0)\n",
            "Requirement already satisfied: httpx<1,>=0.23.0 in /usr/local/lib/python3.11/dist-packages (from groq) (0.28.1)\n",
            "Requirement already satisfied: pydantic<3,>=1.9.0 in /usr/local/lib/python3.11/dist-packages (from groq) (2.11.7)\n",
            "Requirement already satisfied: sniffio in /usr/local/lib/python3.11/dist-packages (from groq) (1.3.1)\n",
            "Requirement already satisfied: typing-extensions<5,>=4.10 in /usr/local/lib/python3.11/dist-packages (from groq) (4.14.1)\n",
            "Requirement already satisfied: idna>=2.8 in /usr/local/lib/python3.11/dist-packages (from anyio<5,>=3.5.0->groq) (3.10)\n",
            "Requirement already satisfied: certifi in /usr/local/lib/python3.11/dist-packages (from httpx<1,>=0.23.0->groq) (2025.7.14)\n",
            "Requirement already satisfied: httpcore==1.* in /usr/local/lib/python3.11/dist-packages (from httpx<1,>=0.23.0->groq) (1.0.9)\n",
            "Requirement already satisfied: h11>=0.16 in /usr/local/lib/python3.11/dist-packages (from httpcore==1.*->httpx<1,>=0.23.0->groq) (0.16.0)\n",
            "Requirement already satisfied: annotated-types>=0.6.0 in /usr/local/lib/python3.11/dist-packages (from pydantic<3,>=1.9.0->groq) (0.7.0)\n",
            "Requirement already satisfied: pydantic-core==2.33.2 in /usr/local/lib/python3.11/dist-packages (from pydantic<3,>=1.9.0->groq) (2.33.2)\n",
            "Requirement already satisfied: typing-inspection>=0.4.0 in /usr/local/lib/python3.11/dist-packages (from pydantic<3,>=1.9.0->groq) (0.4.1)\n",
            "Downloading groq-0.30.0-py3-none-any.whl (131 kB)\n",
            "\u001b[2K   \u001b[90m━━━━━━━━━━━━━━━━━━━━━━━━━━━━━━━━━━━━━━━\u001b[0m \u001b[32m131.1/131.1 kB\u001b[0m \u001b[31m958.7 kB/s\u001b[0m eta \u001b[36m0:00:00\u001b[0m\n",
            "\u001b[?25hInstalling collected packages: groq\n",
            "Successfully installed groq-0.30.0\n"
          ]
        }
      ],
      "source": [
        "!pip install groq\n"
      ]
    },
    {
      "cell_type": "code",
      "source": [
        "from google.colab import userdata\n",
        "if(userdata.get('GROQ_API_KEY')):\n",
        "  print(\"API Key found!\")\n",
        "else:\n",
        "  print(\"API Key not found!\")"
      ],
      "metadata": {
        "colab": {
          "base_uri": "https://localhost:8080/"
        },
        "id": "UWJnq6WfUehG",
        "outputId": "fc51e86e-bc3d-4752-e30f-4062c216bf93"
      },
      "execution_count": 11,
      "outputs": [
        {
          "output_type": "stream",
          "name": "stdout",
          "text": [
            "API Key found!\n"
          ]
        }
      ]
    },
    {
      "cell_type": "code",
      "source": [
        "from groq import Groq\n",
        "import os\n",
        "from google.colab import userdata\n",
        "\n",
        "def transcribe_audio_with_groq(file_path, model=\"whisper-large-v3\"):\n",
        "    \"\"\"\n",
        "    Transcribes an audio file using the Groq API.\n",
        "    \"\"\"\n",
        "    if not os.path.exists(file_path):\n",
        "        raise FileNotFoundError(f\"The audio file was not found at: {file_path}\")\n",
        "\n",
        "    print(f\"Sending audio to Groq for transcription with '{model}'...\")\n",
        "\n",
        "    try:\n",
        "        # Explicitly pass the API key\n",
        "        client = Groq(api_key=userdata.get('GROQ_API_KEY'))\n",
        "    except Exception as e:\n",
        "        print(f\"Error initializing Groq client: {e}\")\n",
        "        print(\"Please ensure the GROQ_API_KEY environment variable is set correctly.\")\n",
        "        return None\n",
        "\n",
        "    try:\n",
        "        with open(file_path, \"rb\") as file:\n",
        "            transcription = client.audio.transcriptions.create(\n",
        "                file=(os.path.basename(file_path), file.read()),\n",
        "                model=model,\n",
        "                # You can optionally prompt the model to improve transcription quality\n",
        "                # prompt=\"The following is a discussion in Hindi about technology.\",\n",
        "                response_format=\"json\",  # or \"verbose_json\"\n",
        "                language=\"hi\"  # Specify Hindi language\n",
        "            )\n",
        "        print(\"Transcription complete.\")\n",
        "        return transcription.text\n",
        "    except Exception as e:\n",
        "        print(f\"An error occurred during transcription with Groq: {e}\")\n",
        "        return None\n",
        "\n",
        "\n",
        "def summarize_text_with_groq_streaming(text_to_summarize, model_name=\"llama3-70b-8192\"):\n",
        "    \"\"\"\n",
        "    Summarizes the given text using the Groq API and streams the response.\n",
        "    \"\"\"\n",
        "    print(f\"\\n--- Summary (from Groq's '{model_name}') ---\")\n",
        "\n",
        "    try:\n",
        "        # Explicitly pass the API key\n",
        "        client = Groq(api_key=userdata.get('GROQ_API_KEY'))\n",
        "    except Exception as e:\n",
        "        print(f\"Error initializing Groq client: {e}\")\n",
        "        return\n",
        "\n",
        "    prompt = f\"\"\"\n",
        "    Please summarize the following Hindi text in a few concise bullet points.\n",
        "    Provide the summary in Hindi.\n",
        "\n",
        "    Text to summarize:\n",
        "    \"{text_to_summarize}\"\n",
        "\n",
        "    Summary:\n",
        "    \"\"\"\n",
        "\n",
        "    try:\n",
        "        stream = client.chat.completions.create(\n",
        "            model=model_name,\n",
        "            messages=[\n",
        "                {\n",
        "                    \"role\": \"user\",\n",
        "                    \"content\": prompt\n",
        "                }\n",
        "            ],\n",
        "            temperature=0.7,\n",
        "            max_tokens=1024,\n",
        "            top_p=1,\n",
        "            stream=True,\n",
        "            stop=None,\n",
        "        )\n",
        "\n",
        "        # Print the streamed response as it arrives\n",
        "        for chunk in stream:\n",
        "            print(chunk.choices[0].delta.content or \"\", end=\"\")\n",
        "\n",
        "        print(\"\\nSummarization complete.\")\n",
        "\n",
        "    except Exception as e:\n",
        "        print(f\"An error occurred during summarization with Groq: {e}\")\n",
        "\n",
        "\n",
        "if __name__ == \"__main__\":\n",
        "    # --- Configuration ---\n",
        "    # 1. Replace this with the path to your Hindi audio file (e.g., .mp3, .wav, .m4a)\n",
        "    AUDIO_FILE_PATH = \"/content/x.mp3\"\n",
        "\n",
        "    # 2. (Optional) Change the summarization model. Groq offers several.\n",
        "    # Models: \"llama3-70b-8192\", \"llama3-8b-8192\", \"mixtral-8x7b-32768\", \"gemma-7b-it\"\n",
        "    SUMMARIZATION_MODEL = \"llama3-70b-8192\"\n",
        "\n",
        "    # The transcription model is typically \"whisper-large-v3\"\n",
        "    TRANSCRIPTION_MODEL = \"whisper-large-v3\"\n",
        "    # --- End of Configuration ---\n",
        "\n",
        "    try:\n",
        "        # Step 1: Transcribe the audio file to text using Groq\n",
        "        hindi_text = transcribe_audio_with_groq(AUDIO_FILE_PATH, model=TRANSCRIPTION_MODEL)\n",
        "\n",
        "        if hindi_text:\n",
        "            # As requested, print the full transcription first\n",
        "            print(\"\\n--- Transcribed Text (from Groq) ---\")\n",
        "            print(hindi_text)\n",
        "\n",
        "            # Step 2: Summarize the transcribed text with a streaming response\n",
        "            summarize_text_with_groq_streaming(hindi_text, model_name=SUMMARIZATION_MODEL)\n",
        "\n",
        "    except FileNotFoundError as e:\n",
        "        print(e)\n",
        "    except Exception as e:\n",
        "        print(f\"An unexpected error occurred: {e}\")"
      ],
      "metadata": {
        "colab": {
          "base_uri": "https://localhost:8080/"
        },
        "id": "3eOWwv3uTkp6",
        "outputId": "99fd9cd0-5960-4bb2-b2d9-17be6199cb3d"
      },
      "execution_count": 10,
      "outputs": [
        {
          "output_type": "stream",
          "name": "stdout",
          "text": [
            "Sending audio to Groq for transcription with 'whisper-large-v3'...\n",
            "Transcription complete.\n",
            "\n",
            "--- Transcribed Text (from Groq) ---\n",
            " एक बार की बात है, एक गाउं में एक किसान रहता था, उस किसान को जानवर पालने का बहुत शौक था, उसके पास पहले से ही बहुत सारी भैसे थी, जिनका दूद बेच कर वो अपना घर चलाया करता था, तो एक दिन उस किसान ने एक खरगोश और एक बंदर को भी अपने � और फिर उन गड़ों पर मिट्टी डाल कर उन गड़ों को बंद कर दिया और किसी एक गड़े में उस किसान ने एक गाजर को छुपा दिया अब उस किसान ने खरगोश और बंदर को उस गाजर को ढूनने के लिए कहा खरगोश बहुत ही confident था और उसे अपने आप पर बहुत विश्वास था उसने एक एक गड़े को खोदना शुरू किया और गाजर ढूनने लगा लेकिन बंदर जो था वो बहुत ही negative और आलसी था उसने सोचा की खेत में इतने सारे गड़े है और वो गाजर किसी एक गड़े में है इतना कौन ढूनेगा वो बंदर ये सोचकर एक गड़े के उपर जाकर सो गया अब उधர खर्गोष अपनी पूरी महनस से गाजर ढून रहा था एक एक करके खरगोश ने सारे गडडे देख लिये, लेकिन उसे किसी भी गडडे में गाजर नहीं मिली. सिर्फ एक गडडा बाकी रह गया था, जिसके उपर बंदर सो रहा था. कि अब खर्गोष बंदर के पास जाता है और उसे उस गड्डेपर से उठने के लिए कहता है जैसे बंदर उस गड्डेपर से उठता है खर्गोष गड्डा सोध कर गाजर बाहर निकाल लेता है हम अपने मालिक को ले जाकर ता यही सोचकर वो अपने किये पर पचता रहा था दोस्ते इस कहानी से हमें तीन बहुत बड़ी सीखे मिलती है पहली यह है कि हमें कभी भी अपने काम के प्रती नेगेटिव नहीं सोचना चाहिए जैसे उस बंदर ने सोचा कि इतने सारे गड़े है और गाजर किस गडडे में है पता नहीं यही सोचकर उसने उस काम को अपने लिए बड़ा बना दिया और दूसरी सीख हमें इस कहानी से ये मिलती है कि हमें एटलिस कोशिश भी तो करनी चाहिए क्योंकि हम जब तक कोशिश नहीं करेंगे किसमत भी हमारा साथ नहीं देंगी अगर वो बंदर जिस गडडे पर सोया हुआ था वहाँ से ही गाजर को ढूनना शुरू करता तो उससे गाजर मिल जाती लेकिन उसने कोशिश ही नहीं किया और तीसरी सीख हमें इस कहानी से ये मिलती है कि हमें जल्दी हार नहीं माननी चाहिए अब हमें नहीं पता कि हमें अपने काम में कौन से साल में कामियाबी मिलेंगी वो 2025 हो सकता है, 2030 हो सकता है या 2032 भी हो सकता है लेकिन हमें कामियाबी त� nay मिलेंगी जब हम positive सोच के साथ कोशिश करते रहेंगे और हार नहीं मानेंगे तो अगर आप इस कहानी को और भी लोगों तक पहुचाना चाहते हो तो इस वीडियो को लाइक करो ताकि यूट्यूब इस वीडियो को और भी लोगों तक पहुचाए और अगर कहानी अच्छी लगी हो तो हमारे चैनल को सब्सक्राइब जरूर करिए मिलता हूँ मैं अगली बार इसी तरह की कहानी के साथ तो सबर करो शुकर करो और जिन्दगी में आगे बढ़ो\n",
            "\n",
            "--- Summary (from Groq's 'llama3-70b-8192') ---\n",
            "Here is a summary of the Hindi text in a few concise bullet points:\n",
            "\n",
            "• एक किसान ने एक खरगोश और एक बंदर को एक गाजर ढूनने के लिए कहा, लेकिन बंदर ने आलस्य की वजह से कोशिश नहीं की और खरगोश ने पूरी मेहनत से गाजर ढून लिया।\n",
            "• इस कहानी से हमें तीन सीख मिलती हैं: कभी नेगेटिव नहीं सोचना चाहिए, एटलिस कोशिश करनी चाहिए, और जल्दी हार नहीं माननी चाहिए।\n",
            "• अगर हम पॉजिटिव सोच के साथ कोशिश करते रहेंगे और हार नहीं मानेंगे, तो हमें कामियाबी जरूर मिलेंगी।\n",
            "Summarization complete.\n"
          ]
        }
      ]
    }
  ]
}